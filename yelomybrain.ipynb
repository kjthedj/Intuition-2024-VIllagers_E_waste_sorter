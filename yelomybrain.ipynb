{
  "nbformat": 4,
  "nbformat_minor": 0,
  "metadata": {
    "colab": {
      "provenance": [],
      "gpuType": "T4",
      "include_colab_link": true
    },
    "kernelspec": {
      "name": "python3",
      "display_name": "Python 3"
    },
    "language_info": {
      "name": "python"
    },
    "accelerator": "GPU"
  },
  "cells": [
    {
      "cell_type": "markdown",
      "metadata": {
        "id": "view-in-github",
        "colab_type": "text"
      },
      "source": [
        "<a href=\"https://colab.research.google.com/github/kjthedj/Intuition-2024-VIllagers_E_waste_sorter/blob/main/yelomybrain.ipynb\" target=\"_parent\"><img src=\"https://colab.research.google.com/assets/colab-badge.svg\" alt=\"Open In Colab\"/></a>"
      ]
    },
    {
      "cell_type": "code",
      "execution_count": null,
      "metadata": {
        "colab": {
          "base_uri": "https://localhost:8080/"
        },
        "id": "2Ai2nXr_QuBg",
        "outputId": "0c3c63be-401f-4552-f7f7-861586dc686a"
      },
      "outputs": [
        {
          "output_type": "stream",
          "name": "stdout",
          "text": [
            "Sat Feb 24 21:35:11 2024       \n",
            "+---------------------------------------------------------------------------------------+\n",
            "| NVIDIA-SMI 535.104.05             Driver Version: 535.104.05   CUDA Version: 12.2     |\n",
            "|-----------------------------------------+----------------------+----------------------+\n",
            "| GPU  Name                 Persistence-M | Bus-Id        Disp.A | Volatile Uncorr. ECC |\n",
            "| Fan  Temp   Perf          Pwr:Usage/Cap |         Memory-Usage | GPU-Util  Compute M. |\n",
            "|                                         |                      |               MIG M. |\n",
            "|=========================================+======================+======================|\n",
            "|   0  Tesla T4                       Off | 00000000:00:04.0 Off |                    0 |\n",
            "| N/A   35C    P8               9W /  70W |      0MiB / 15360MiB |      0%      Default |\n",
            "|                                         |                      |                  N/A |\n",
            "+-----------------------------------------+----------------------+----------------------+\n",
            "                                                                                         \n",
            "+---------------------------------------------------------------------------------------+\n",
            "| Processes:                                                                            |\n",
            "|  GPU   GI   CI        PID   Type   Process name                            GPU Memory |\n",
            "|        ID   ID                                                             Usage      |\n",
            "|=======================================================================================|\n",
            "|  No running processes found                                                           |\n",
            "+---------------------------------------------------------------------------------------+\n"
          ]
        }
      ],
      "source": [
        "!nvidia-smi"
      ]
    },
    {
      "cell_type": "code",
      "source": [
        "import os\n",
        "HOME = os.getcwd()\n",
        "print(HOME)"
      ],
      "metadata": {
        "colab": {
          "base_uri": "https://localhost:8080/"
        },
        "id": "jsSkMsjMQ7VR",
        "outputId": "cce86f35-3b2e-4688-e838-990e8b1424d1"
      },
      "execution_count": null,
      "outputs": [
        {
          "output_type": "stream",
          "name": "stdout",
          "text": [
            "/content\n"
          ]
        }
      ]
    },
    {
      "cell_type": "code",
      "source": [
        "# Pip install method (recommended)\n",
        "\n",
        "!pip install ultralytics\n",
        "\n",
        "from IPython import display\n",
        "display.clear_output()\n",
        "\n",
        "import ultralytics\n",
        "ultralytics.checks()"
      ],
      "metadata": {
        "colab": {
          "base_uri": "https://localhost:8080/"
        },
        "id": "jY_EtSfQQ-qr",
        "outputId": "a83255e3-c65a-4b62-f1db-e577a06cf5e9"
      },
      "execution_count": null,
      "outputs": [
        {
          "output_type": "stream",
          "name": "stdout",
          "text": [
            "Ultralytics YOLOv8.1.18 🚀 Python-3.10.12 torch-2.1.0+cu121 CUDA:0 (Tesla T4, 15102MiB)\n",
            "Setup complete ✅ (2 CPUs, 12.7 GB RAM, 26.3/78.2 GB disk)\n"
          ]
        }
      ]
    },
    {
      "cell_type": "code",
      "source": [
        "from ultralytics import YOLO\n",
        "\n",
        "from IPython.display import display, Image"
      ],
      "metadata": {
        "id": "BJhuCpcmRCcY"
      },
      "execution_count": null,
      "outputs": []
    },
    {
      "cell_type": "code",
      "source": [
        "!pip install roboflow\n",
        "from roboflow import Roboflow\n",
        "rf = Roboflow(api_key=\"TO4rOIeutEq7mDUvWOis\")\n",
        "project = rf.workspace(\"jain-kriti-sp14x\").project(\"intuition24\")\n",
        "dataset = project.version(4).download(\"folder\")\n"
      ],
      "metadata": {
        "colab": {
          "base_uri": "https://localhost:8080/",
          "height": 1000
        },
        "id": "YW0AeRmvRO1u",
        "outputId": "c2991812-8bbb-4a46-a9e3-ced248a05ccc"
      },
      "execution_count": null,
      "outputs": [
        {
          "output_type": "stream",
          "name": "stdout",
          "text": [
            "Collecting roboflow\n",
            "  Downloading roboflow-1.1.19-py3-none-any.whl (70 kB)\n",
            "\u001b[2K     \u001b[90m━━━━━━━━━━━━━━━━━━━━━━━━━━━━━━━━━━━━━━━━\u001b[0m \u001b[32m70.2/70.2 kB\u001b[0m \u001b[31m3.1 MB/s\u001b[0m eta \u001b[36m0:00:00\u001b[0m\n",
            "\u001b[?25hCollecting certifi==2023.7.22 (from roboflow)\n",
            "  Downloading certifi-2023.7.22-py3-none-any.whl (158 kB)\n",
            "\u001b[2K     \u001b[90m━━━━━━━━━━━━━━━━━━━━━━━━━━━━━━━━━━━━━━━━\u001b[0m \u001b[32m158.3/158.3 kB\u001b[0m \u001b[31m7.4 MB/s\u001b[0m eta \u001b[36m0:00:00\u001b[0m\n",
            "\u001b[?25hCollecting chardet==4.0.0 (from roboflow)\n",
            "  Downloading chardet-4.0.0-py2.py3-none-any.whl (178 kB)\n",
            "\u001b[2K     \u001b[90m━━━━━━━━━━━━━━━━━━━━━━━━━━━━━━━━━━━━━━━━\u001b[0m \u001b[32m178.7/178.7 kB\u001b[0m \u001b[31m12.0 MB/s\u001b[0m eta \u001b[36m0:00:00\u001b[0m\n",
            "\u001b[?25hCollecting cycler==0.10.0 (from roboflow)\n",
            "  Downloading cycler-0.10.0-py2.py3-none-any.whl (6.5 kB)\n",
            "Collecting idna==2.10 (from roboflow)\n",
            "  Downloading idna-2.10-py2.py3-none-any.whl (58 kB)\n",
            "\u001b[2K     \u001b[90m━━━━━━━━━━━━━━━━━━━━━━━━━━━━━━━━━━━━━━━━\u001b[0m \u001b[32m58.8/58.8 kB\u001b[0m \u001b[31m8.1 MB/s\u001b[0m eta \u001b[36m0:00:00\u001b[0m\n",
            "\u001b[?25hRequirement already satisfied: kiwisolver>=1.3.1 in /usr/local/lib/python3.10/dist-packages (from roboflow) (1.4.5)\n",
            "Requirement already satisfied: matplotlib in /usr/local/lib/python3.10/dist-packages (from roboflow) (3.7.1)\n",
            "Requirement already satisfied: numpy>=1.18.5 in /usr/local/lib/python3.10/dist-packages (from roboflow) (1.25.2)\n",
            "Collecting opencv-python-headless==4.8.0.74 (from roboflow)\n",
            "  Downloading opencv_python_headless-4.8.0.74-cp37-abi3-manylinux_2_17_x86_64.manylinux2014_x86_64.whl (49.1 MB)\n",
            "\u001b[2K     \u001b[90m━━━━━━━━━━━━━━━━━━━━━━━━━━━━━━━━━━━━━━━━\u001b[0m \u001b[32m49.1/49.1 MB\u001b[0m \u001b[31m11.9 MB/s\u001b[0m eta \u001b[36m0:00:00\u001b[0m\n",
            "\u001b[?25hRequirement already satisfied: Pillow>=7.1.2 in /usr/local/lib/python3.10/dist-packages (from roboflow) (9.4.0)\n",
            "Requirement already satisfied: python-dateutil in /usr/local/lib/python3.10/dist-packages (from roboflow) (2.8.2)\n",
            "Collecting python-dotenv (from roboflow)\n",
            "  Downloading python_dotenv-1.0.1-py3-none-any.whl (19 kB)\n",
            "Requirement already satisfied: requests in /usr/local/lib/python3.10/dist-packages (from roboflow) (2.31.0)\n",
            "Requirement already satisfied: six in /usr/local/lib/python3.10/dist-packages (from roboflow) (1.16.0)\n",
            "Collecting supervision (from roboflow)\n",
            "  Downloading supervision-0.18.0-py3-none-any.whl (86 kB)\n",
            "\u001b[2K     \u001b[90m━━━━━━━━━━━━━━━━━━━━━━━━━━━━━━━━━━━━━━━━\u001b[0m \u001b[32m86.7/86.7 kB\u001b[0m \u001b[31m12.5 MB/s\u001b[0m eta \u001b[36m0:00:00\u001b[0m\n",
            "\u001b[?25hRequirement already satisfied: urllib3>=1.26.6 in /usr/local/lib/python3.10/dist-packages (from roboflow) (2.0.7)\n",
            "Requirement already satisfied: tqdm>=4.41.0 in /usr/local/lib/python3.10/dist-packages (from roboflow) (4.66.2)\n",
            "Requirement already satisfied: PyYAML>=5.3.1 in /usr/local/lib/python3.10/dist-packages (from roboflow) (6.0.1)\n",
            "Collecting requests-toolbelt (from roboflow)\n",
            "  Downloading requests_toolbelt-1.0.0-py2.py3-none-any.whl (54 kB)\n",
            "\u001b[2K     \u001b[90m━━━━━━━━━━━━━━━━━━━━━━━━━━━━━━━━━━━━━━━━\u001b[0m \u001b[32m54.5/54.5 kB\u001b[0m \u001b[31m7.7 MB/s\u001b[0m eta \u001b[36m0:00:00\u001b[0m\n",
            "\u001b[?25hCollecting python-magic (from roboflow)\n",
            "  Downloading python_magic-0.4.27-py2.py3-none-any.whl (13 kB)\n",
            "Requirement already satisfied: contourpy>=1.0.1 in /usr/local/lib/python3.10/dist-packages (from matplotlib->roboflow) (1.2.0)\n",
            "Requirement already satisfied: fonttools>=4.22.0 in /usr/local/lib/python3.10/dist-packages (from matplotlib->roboflow) (4.49.0)\n",
            "Requirement already satisfied: packaging>=20.0 in /usr/local/lib/python3.10/dist-packages (from matplotlib->roboflow) (23.2)\n",
            "Requirement already satisfied: pyparsing>=2.3.1 in /usr/local/lib/python3.10/dist-packages (from matplotlib->roboflow) (3.1.1)\n",
            "Requirement already satisfied: charset-normalizer<4,>=2 in /usr/local/lib/python3.10/dist-packages (from requests->roboflow) (3.3.2)\n",
            "Requirement already satisfied: defusedxml<0.8.0,>=0.7.1 in /usr/local/lib/python3.10/dist-packages (from supervision->roboflow) (0.7.1)\n",
            "Requirement already satisfied: scipy<2.0.0,>=1.10.0 in /usr/local/lib/python3.10/dist-packages (from supervision->roboflow) (1.11.4)\n",
            "Installing collected packages: python-magic, python-dotenv, opencv-python-headless, idna, cycler, chardet, certifi, supervision, requests-toolbelt, roboflow\n",
            "  Attempting uninstall: opencv-python-headless\n",
            "    Found existing installation: opencv-python-headless 4.9.0.80\n",
            "    Uninstalling opencv-python-headless-4.9.0.80:\n",
            "      Successfully uninstalled opencv-python-headless-4.9.0.80\n",
            "  Attempting uninstall: idna\n",
            "    Found existing installation: idna 3.6\n",
            "    Uninstalling idna-3.6:\n",
            "      Successfully uninstalled idna-3.6\n",
            "  Attempting uninstall: cycler\n",
            "    Found existing installation: cycler 0.12.1\n",
            "    Uninstalling cycler-0.12.1:\n",
            "      Successfully uninstalled cycler-0.12.1\n",
            "  Attempting uninstall: chardet\n",
            "    Found existing installation: chardet 5.2.0\n",
            "    Uninstalling chardet-5.2.0:\n",
            "      Successfully uninstalled chardet-5.2.0\n",
            "  Attempting uninstall: certifi\n",
            "    Found existing installation: certifi 2024.2.2\n",
            "    Uninstalling certifi-2024.2.2:\n",
            "      Successfully uninstalled certifi-2024.2.2\n",
            "Successfully installed certifi-2023.7.22 chardet-4.0.0 cycler-0.10.0 idna-2.10 opencv-python-headless-4.8.0.74 python-dotenv-1.0.1 python-magic-0.4.27 requests-toolbelt-1.0.0 roboflow-1.1.19 supervision-0.18.0\n"
          ]
        },
        {
          "output_type": "display_data",
          "data": {
            "application/vnd.colab-display-data+json": {
              "pip_warning": {
                "packages": [
                  "certifi",
                  "chardet",
                  "cv2",
                  "cycler",
                  "idna"
                ]
              }
            }
          },
          "metadata": {}
        },
        {
          "output_type": "stream",
          "name": "stdout",
          "text": [
            "loading Roboflow workspace...\n",
            "loading Roboflow project...\n"
          ]
        },
        {
          "output_type": "stream",
          "name": "stderr",
          "text": [
            "Downloading Dataset Version Zip in intuition24-4 to folder:: 100%|██████████| 41234/41234 [00:01<00:00, 20893.62it/s]"
          ]
        },
        {
          "output_type": "stream",
          "name": "stdout",
          "text": [
            "\n"
          ]
        },
        {
          "output_type": "stream",
          "name": "stderr",
          "text": [
            "\n",
            "Extracting Dataset Version Zip to intuition24-4 in folder:: 100%|██████████| 1028/1028 [00:00<00:00, 5144.52it/s]\n"
          ]
        }
      ]
    },
    {
      "cell_type": "code",
      "source": [
        "%cd {HOME}\n",
        "\n",
        "!yolo task=classify mode=train model=yolov8n-cls.pt data={dataset.location} epochs=50 imgsz=128"
      ],
      "metadata": {
        "colab": {
          "base_uri": "https://localhost:8080/"
        },
        "id": "sj36GLSpSU0M",
        "outputId": "8e755ef0-0227-4f7a-b8f4-30ba50e28c84"
      },
      "execution_count": null,
      "outputs": [
        {
          "output_type": "stream",
          "name": "stdout",
          "text": [
            "/content\n",
            "Downloading https://github.com/ultralytics/assets/releases/download/v8.1.0/yolov8n-cls.pt to 'yolov8n-cls.pt'...\n",
            "100% 5.30M/5.30M [00:00<00:00, 60.7MB/s]\n",
            "Ultralytics YOLOv8.1.18 🚀 Python-3.10.12 torch-2.1.0+cu121 CUDA:0 (Tesla T4, 15102MiB)\n",
            "\u001b[34m\u001b[1mengine/trainer: \u001b[0mtask=classify, mode=train, model=yolov8n-cls.pt, data=/content/intuition24-4, epochs=50, time=None, patience=100, batch=16, imgsz=128, save=True, save_period=-1, cache=False, device=None, workers=8, project=None, name=train, exist_ok=False, pretrained=True, optimizer=auto, verbose=True, seed=0, deterministic=True, single_cls=False, rect=False, cos_lr=False, close_mosaic=10, resume=False, amp=True, fraction=1.0, profile=False, freeze=None, multi_scale=False, overlap_mask=True, mask_ratio=4, dropout=0.0, val=True, split=val, save_json=False, save_hybrid=False, conf=None, iou=0.7, max_det=300, half=False, dnn=False, plots=True, source=None, vid_stride=1, stream_buffer=False, visualize=False, augment=False, agnostic_nms=False, classes=None, retina_masks=False, embed=None, show=False, save_frames=False, save_txt=False, save_conf=False, save_crop=False, show_labels=True, show_conf=True, show_boxes=True, line_width=None, format=torchscript, keras=False, optimize=False, int8=False, dynamic=False, simplify=False, opset=None, workspace=4, nms=False, lr0=0.01, lrf=0.01, momentum=0.937, weight_decay=0.0005, warmup_epochs=3.0, warmup_momentum=0.8, warmup_bias_lr=0.1, box=7.5, cls=0.5, dfl=1.5, pose=12.0, kobj=1.0, label_smoothing=0.0, nbs=64, hsv_h=0.015, hsv_s=0.7, hsv_v=0.4, degrees=0.0, translate=0.1, scale=0.5, shear=0.0, perspective=0.0, flipud=0.0, fliplr=0.5, mosaic=1.0, mixup=0.0, copy_paste=0.0, auto_augment=randaugment, erasing=0.4, crop_fraction=1.0, cfg=None, tracker=botsort.yaml, save_dir=runs/classify/train\n",
            "\u001b[34m\u001b[1mtrain:\u001b[0m /content/intuition24-4/train... found 874 images in 5 classes ✅ \n",
            "\u001b[34m\u001b[1mval:\u001b[0m None...\n",
            "\u001b[34m\u001b[1mtest:\u001b[0m /content/intuition24-4/test... found 42 images in 5 classes ✅ \n",
            "2024-02-24 18:56:03.765747: E external/local_xla/xla/stream_executor/cuda/cuda_dnn.cc:9261] Unable to register cuDNN factory: Attempting to register factory for plugin cuDNN when one has already been registered\n",
            "2024-02-24 18:56:03.765815: E external/local_xla/xla/stream_executor/cuda/cuda_fft.cc:607] Unable to register cuFFT factory: Attempting to register factory for plugin cuFFT when one has already been registered\n",
            "2024-02-24 18:56:03.767751: E external/local_xla/xla/stream_executor/cuda/cuda_blas.cc:1515] Unable to register cuBLAS factory: Attempting to register factory for plugin cuBLAS when one has already been registered\n",
            "Overriding model.yaml nc=1000 with nc=5\n",
            "\n",
            "                   from  n    params  module                                       arguments                     \n",
            "  0                  -1  1       464  ultralytics.nn.modules.conv.Conv             [3, 16, 3, 2]                 \n",
            "  1                  -1  1      4672  ultralytics.nn.modules.conv.Conv             [16, 32, 3, 2]                \n",
            "  2                  -1  1      7360  ultralytics.nn.modules.block.C2f             [32, 32, 1, True]             \n",
            "  3                  -1  1     18560  ultralytics.nn.modules.conv.Conv             [32, 64, 3, 2]                \n",
            "  4                  -1  2     49664  ultralytics.nn.modules.block.C2f             [64, 64, 2, True]             \n",
            "  5                  -1  1     73984  ultralytics.nn.modules.conv.Conv             [64, 128, 3, 2]               \n",
            "  6                  -1  2    197632  ultralytics.nn.modules.block.C2f             [128, 128, 2, True]           \n",
            "  7                  -1  1    295424  ultralytics.nn.modules.conv.Conv             [128, 256, 3, 2]              \n",
            "  8                  -1  1    460288  ultralytics.nn.modules.block.C2f             [256, 256, 1, True]           \n",
            "  9                  -1  1    336645  ultralytics.nn.modules.head.Classify         [256, 5]                      \n",
            "YOLOv8n-cls summary: 99 layers, 1444693 parameters, 1444693 gradients, 3.4 GFLOPs\n",
            "Transferred 156/158 items from pretrained weights\n",
            "\u001b[34m\u001b[1mTensorBoard: \u001b[0mStart with 'tensorboard --logdir runs/classify/train', view at http://localhost:6006/\n",
            "\u001b[34m\u001b[1mAMP: \u001b[0mrunning Automatic Mixed Precision (AMP) checks with YOLOv8n...\n",
            "Downloading https://github.com/ultralytics/assets/releases/download/v8.1.0/yolov8n.pt to 'yolov8n.pt'...\n",
            "100% 6.23M/6.23M [00:00<00:00, 61.3MB/s]\n",
            "\u001b[34m\u001b[1mAMP: \u001b[0mchecks passed ✅\n",
            "\u001b[34m\u001b[1mtrain: \u001b[0mScanning /content/intuition24-4/train... 874 images, 0 corrupt: 100% 874/874 [00:00<00:00, 4698.69it/s]\n",
            "\u001b[34m\u001b[1mtrain: \u001b[0mNew cache created: /content/intuition24-4/train.cache\n",
            "\u001b[34m\u001b[1mval: \u001b[0mScanning /content/intuition24-4/test... 42 images, 0 corrupt: 100% 42/42 [00:00<00:00, 3633.53it/s]\n",
            "\u001b[34m\u001b[1mval: \u001b[0mNew cache created: /content/intuition24-4/test.cache\n",
            "\u001b[34m\u001b[1moptimizer:\u001b[0m 'optimizer=auto' found, ignoring 'lr0=0.01' and 'momentum=0.937' and determining best 'optimizer', 'lr0' and 'momentum' automatically... \n",
            "\u001b[34m\u001b[1moptimizer:\u001b[0m AdamW(lr=0.000714, momentum=0.9) with parameter groups 26 weight(decay=0.0), 27 weight(decay=0.0005), 27 bias(decay=0.0)\n",
            "\u001b[34m\u001b[1mTensorBoard: \u001b[0mmodel graph visualization added ✅\n",
            "Image sizes 128 train, 128 val\n",
            "Using 2 dataloader workers\n",
            "Logging results to \u001b[1mruns/classify/train\u001b[0m\n",
            "Starting training for 50 epochs...\n",
            "\n",
            "      Epoch    GPU_mem       loss  Instances       Size\n",
            "       1/50     0.398G      1.752         16        128:  13% 7/55 [00:01<00:07,  6.18it/s]Downloading https://ultralytics.com/assets/Arial.ttf to '/root/.config/Ultralytics/Arial.ttf'...\n",
            "       1/50     0.398G      1.699         16        128:  24% 13/55 [00:02<00:06,  6.52it/s]\n",
            "100% 755k/755k [00:00<00:00, 16.3MB/s]\n",
            "       1/50     0.401G      1.367         10        128: 100% 55/55 [00:09<00:00,  5.62it/s]\n",
            "               classes   top1_acc   top5_acc: 100% 2/2 [00:00<00:00,  5.19it/s]\n",
            "                   all        0.5          1\n",
            "\n",
            "      Epoch    GPU_mem       loss  Instances       Size\n",
            "       2/50      0.38G     0.7148         10        128: 100% 55/55 [00:06<00:00,  8.18it/s]\n",
            "               classes   top1_acc   top5_acc: 100% 2/2 [00:00<00:00, 34.78it/s]\n",
            "                   all      0.857          1\n",
            "\n",
            "      Epoch    GPU_mem       loss  Instances       Size\n",
            "       3/50      0.38G     0.4622         10        128: 100% 55/55 [00:07<00:00,  7.48it/s]\n",
            "               classes   top1_acc   top5_acc: 100% 2/2 [00:00<00:00, 23.18it/s]\n",
            "                   all      0.833          1\n",
            "\n",
            "      Epoch    GPU_mem       loss  Instances       Size\n",
            "       4/50      0.38G     0.3325         10        128: 100% 55/55 [00:08<00:00,  6.83it/s]\n",
            "               classes   top1_acc   top5_acc: 100% 2/2 [00:00<00:00, 114.77it/s]\n",
            "                   all      0.905          1\n",
            "\n",
            "      Epoch    GPU_mem       loss  Instances       Size\n",
            "       5/50      0.38G     0.2818         10        128: 100% 55/55 [00:06<00:00,  8.51it/s]\n",
            "               classes   top1_acc   top5_acc: 100% 2/2 [00:00<00:00, 33.19it/s]\n",
            "                   all      0.857          1\n",
            "\n",
            "      Epoch    GPU_mem       loss  Instances       Size\n",
            "       6/50      0.38G     0.2549         10        128: 100% 55/55 [00:08<00:00,  6.85it/s]\n",
            "               classes   top1_acc   top5_acc: 100% 2/2 [00:00<00:00, 50.91it/s]\n",
            "                   all      0.857          1\n",
            "\n",
            "      Epoch    GPU_mem       loss  Instances       Size\n",
            "       7/50      0.38G     0.2166         10        128: 100% 55/55 [00:07<00:00,  7.52it/s]\n",
            "               classes   top1_acc   top5_acc: 100% 2/2 [00:00<00:00, 21.57it/s]\n",
            "                   all      0.881          1\n",
            "\n",
            "      Epoch    GPU_mem       loss  Instances       Size\n",
            "       8/50      0.38G     0.1784         10        128: 100% 55/55 [00:06<00:00,  8.08it/s]\n",
            "               classes   top1_acc   top5_acc: 100% 2/2 [00:00<00:00, 37.59it/s]\n",
            "                   all      0.857          1\n",
            "\n",
            "      Epoch    GPU_mem       loss  Instances       Size\n",
            "       9/50      0.38G     0.2025         10        128: 100% 55/55 [00:07<00:00,  7.11it/s]\n",
            "               classes   top1_acc   top5_acc: 100% 2/2 [00:00<00:00, 55.11it/s]\n",
            "                   all      0.833          1\n",
            "\n",
            "      Epoch    GPU_mem       loss  Instances       Size\n",
            "      10/50      0.38G     0.1935         10        128: 100% 55/55 [00:06<00:00,  8.30it/s]\n",
            "               classes   top1_acc   top5_acc: 100% 2/2 [00:00<00:00, 31.87it/s]\n",
            "                   all      0.905          1\n",
            "\n",
            "      Epoch    GPU_mem       loss  Instances       Size\n",
            "      11/50      0.38G     0.1574         10        128: 100% 55/55 [00:08<00:00,  6.66it/s]\n",
            "               classes   top1_acc   top5_acc: 100% 2/2 [00:00<00:00, 35.48it/s]\n",
            "                   all      0.857          1\n",
            "\n",
            "      Epoch    GPU_mem       loss  Instances       Size\n",
            "      12/50     0.382G     0.1381         10        128: 100% 55/55 [00:07<00:00,  6.95it/s]\n",
            "               classes   top1_acc   top5_acc: 100% 2/2 [00:00<00:00, 41.76it/s]\n",
            "                   all      0.881          1\n",
            "\n",
            "      Epoch    GPU_mem       loss  Instances       Size\n",
            "      13/50      0.38G     0.1587         10        128: 100% 55/55 [00:06<00:00,  8.31it/s]\n",
            "               classes   top1_acc   top5_acc: 100% 2/2 [00:00<00:00, 35.90it/s]\n",
            "                   all      0.905          1\n",
            "\n",
            "      Epoch    GPU_mem       loss  Instances       Size\n",
            "      14/50      0.38G     0.1324         10        128: 100% 55/55 [00:07<00:00,  7.11it/s]\n",
            "               classes   top1_acc   top5_acc: 100% 2/2 [00:00<00:00, 33.35it/s]\n",
            "                   all      0.905          1\n",
            "\n",
            "      Epoch    GPU_mem       loss  Instances       Size\n",
            "      15/50      0.38G     0.1497         10        128: 100% 55/55 [00:07<00:00,  7.40it/s]\n",
            "               classes   top1_acc   top5_acc: 100% 2/2 [00:00<00:00, 22.20it/s]\n",
            "                   all      0.905          1\n",
            "\n",
            "      Epoch    GPU_mem       loss  Instances       Size\n",
            "      16/50      0.38G    0.09493         10        128: 100% 55/55 [00:06<00:00,  8.51it/s]\n",
            "               classes   top1_acc   top5_acc: 100% 2/2 [00:00<00:00, 26.54it/s]\n",
            "                   all      0.881          1\n",
            "\n",
            "      Epoch    GPU_mem       loss  Instances       Size\n",
            "      17/50      0.38G     0.1312         10        128: 100% 55/55 [00:07<00:00,  7.08it/s]\n",
            "               classes   top1_acc   top5_acc: 100% 2/2 [00:00<00:00, 25.47it/s]\n",
            "                   all      0.881          1\n",
            "\n",
            "      Epoch    GPU_mem       loss  Instances       Size\n",
            "      18/50      0.38G    0.09362         10        128: 100% 55/55 [00:06<00:00,  8.19it/s]\n",
            "               classes   top1_acc   top5_acc: 100% 2/2 [00:00<00:00, 30.73it/s]\n",
            "                   all      0.905          1\n",
            "\n",
            "      Epoch    GPU_mem       loss  Instances       Size\n",
            "      19/50      0.38G     0.1185         10        128: 100% 55/55 [00:07<00:00,  7.28it/s]\n",
            "               classes   top1_acc   top5_acc: 100% 2/2 [00:00<00:00, 66.23it/s]\n",
            "                   all      0.881          1\n",
            "\n",
            "      Epoch    GPU_mem       loss  Instances       Size\n",
            "      20/50      0.38G     0.1042         10        128: 100% 55/55 [00:07<00:00,  7.01it/s]\n",
            "               classes   top1_acc   top5_acc: 100% 2/2 [00:00<00:00, 33.79it/s]\n",
            "                   all      0.857          1\n",
            "\n",
            "      Epoch    GPU_mem       loss  Instances       Size\n",
            "      21/50      0.38G     0.1007         10        128: 100% 55/55 [00:06<00:00,  8.08it/s]\n",
            "               classes   top1_acc   top5_acc: 100% 2/2 [00:00<00:00, 40.72it/s]\n",
            "                   all      0.857          1\n",
            "\n",
            "      Epoch    GPU_mem       loss  Instances       Size\n",
            "      22/50      0.38G    0.08289         10        128: 100% 55/55 [00:07<00:00,  6.96it/s]\n",
            "               classes   top1_acc   top5_acc: 100% 2/2 [00:00<00:00, 35.32it/s]\n",
            "                   all      0.857          1\n",
            "\n",
            "      Epoch    GPU_mem       loss  Instances       Size\n",
            "      23/50      0.38G     0.1094         10        128: 100% 55/55 [00:07<00:00,  7.23it/s]\n",
            "               classes   top1_acc   top5_acc: 100% 2/2 [00:00<00:00, 25.83it/s]\n",
            "                   all      0.881          1\n",
            "\n",
            "      Epoch    GPU_mem       loss  Instances       Size\n",
            "      24/50     0.382G    0.08766         10        128: 100% 55/55 [00:06<00:00,  8.05it/s]\n",
            "               classes   top1_acc   top5_acc: 100% 2/2 [00:00<00:00, 58.09it/s]\n",
            "                   all      0.881          1\n",
            "\n",
            "      Epoch    GPU_mem       loss  Instances       Size\n",
            "      25/50      0.38G     0.1027         10        128: 100% 55/55 [00:07<00:00,  6.93it/s]\n",
            "               classes   top1_acc   top5_acc: 100% 2/2 [00:00<00:00, 31.50it/s]\n",
            "                   all      0.905          1\n",
            "\n",
            "      Epoch    GPU_mem       loss  Instances       Size\n",
            "      26/50      0.38G     0.0989         10        128: 100% 55/55 [00:06<00:00,  8.28it/s]\n",
            "               classes   top1_acc   top5_acc: 100% 2/2 [00:00<00:00, 29.44it/s]\n",
            "                   all      0.881          1\n",
            "\n",
            "      Epoch    GPU_mem       loss  Instances       Size\n",
            "      27/50      0.38G     0.0676         10        128: 100% 55/55 [00:07<00:00,  7.00it/s]\n",
            "               classes   top1_acc   top5_acc: 100% 2/2 [00:00<00:00, 51.59it/s]\n",
            "                   all      0.881          1\n",
            "\n",
            "      Epoch    GPU_mem       loss  Instances       Size\n",
            "      28/50      0.38G     0.1007         10        128: 100% 55/55 [00:07<00:00,  7.02it/s]\n",
            "               classes   top1_acc   top5_acc: 100% 2/2 [00:00<00:00, 32.85it/s]\n",
            "                   all      0.905          1\n",
            "\n",
            "      Epoch    GPU_mem       loss  Instances       Size\n",
            "      29/50      0.38G    0.06016         10        128: 100% 55/55 [00:06<00:00,  8.45it/s]\n",
            "               classes   top1_acc   top5_acc: 100% 2/2 [00:00<00:00, 51.84it/s]\n",
            "                   all      0.881          1\n",
            "\n",
            "      Epoch    GPU_mem       loss  Instances       Size\n",
            "      30/50      0.38G    0.07315         10        128: 100% 55/55 [00:07<00:00,  6.95it/s]\n",
            "               classes   top1_acc   top5_acc: 100% 2/2 [00:00<00:00, 23.22it/s]\n",
            "                   all      0.881          1\n",
            "\n",
            "      Epoch    GPU_mem       loss  Instances       Size\n",
            "      31/50      0.38G    0.06887         10        128: 100% 55/55 [00:07<00:00,  7.76it/s]\n",
            "               classes   top1_acc   top5_acc: 100% 2/2 [00:00<00:00, 21.73it/s]\n",
            "                   all      0.905          1\n",
            "\n",
            "      Epoch    GPU_mem       loss  Instances       Size\n",
            "      32/50      0.38G    0.06907         10        128: 100% 55/55 [00:06<00:00,  8.19it/s]\n",
            "               classes   top1_acc   top5_acc: 100% 2/2 [00:00<00:00, 41.47it/s]\n",
            "                   all      0.881          1\n",
            "\n",
            "      Epoch    GPU_mem       loss  Instances       Size\n",
            "      33/50      0.38G    0.05928         10        128: 100% 55/55 [00:07<00:00,  7.12it/s]\n",
            "               classes   top1_acc   top5_acc: 100% 2/2 [00:00<00:00, 27.62it/s]\n",
            "                   all      0.857          1\n",
            "\n",
            "      Epoch    GPU_mem       loss  Instances       Size\n",
            "      34/50      0.38G    0.05682         10        128: 100% 55/55 [00:06<00:00,  8.26it/s]\n",
            "               classes   top1_acc   top5_acc: 100% 2/2 [00:00<00:00, 30.54it/s]\n",
            "                   all      0.881          1\n",
            "\n",
            "      Epoch    GPU_mem       loss  Instances       Size\n",
            "      35/50     0.382G    0.06011         10        128: 100% 55/55 [00:07<00:00,  7.02it/s]\n",
            "               classes   top1_acc   top5_acc: 100% 2/2 [00:00<00:00, 25.86it/s]\n",
            "                   all      0.881          1\n",
            "\n",
            "      Epoch    GPU_mem       loss  Instances       Size\n",
            "      36/50      0.38G    0.04578         10        128: 100% 55/55 [00:07<00:00,  7.08it/s]\n",
            "               classes   top1_acc   top5_acc: 100% 2/2 [00:00<00:00, 26.02it/s]\n",
            "                   all      0.857          1\n",
            "\n",
            "      Epoch    GPU_mem       loss  Instances       Size\n",
            "      37/50      0.38G    0.08064         10        128: 100% 55/55 [00:06<00:00,  8.22it/s]\n",
            "               classes   top1_acc   top5_acc: 100% 2/2 [00:00<00:00, 65.39it/s]\n",
            "                   all      0.857          1\n",
            "\n",
            "      Epoch    GPU_mem       loss  Instances       Size\n",
            "      38/50      0.38G     0.0431         10        128: 100% 55/55 [00:07<00:00,  6.95it/s]\n",
            "               classes   top1_acc   top5_acc: 100% 2/2 [00:00<00:00, 31.21it/s]\n",
            "                   all      0.881          1\n",
            "\n",
            "      Epoch    GPU_mem       loss  Instances       Size\n",
            "      39/50      0.38G     0.0539         10        128: 100% 55/55 [00:06<00:00,  8.25it/s]\n",
            "               classes   top1_acc   top5_acc: 100% 2/2 [00:00<00:00, 44.50it/s]\n",
            "                   all      0.881          1\n",
            "\n",
            "      Epoch    GPU_mem       loss  Instances       Size\n",
            "      40/50     0.382G    0.03285         10        128: 100% 55/55 [00:07<00:00,  7.42it/s]\n",
            "               classes   top1_acc   top5_acc: 100% 2/2 [00:00<00:00, 31.49it/s]\n",
            "                   all      0.857          1\n",
            "\n",
            "      Epoch    GPU_mem       loss  Instances       Size\n",
            "      41/50      0.38G    0.04744         10        128: 100% 55/55 [00:08<00:00,  6.80it/s]\n",
            "               classes   top1_acc   top5_acc: 100% 2/2 [00:00<00:00, 31.09it/s]\n",
            "                   all      0.881          1\n",
            "\n",
            "      Epoch    GPU_mem       loss  Instances       Size\n",
            "      42/50     0.382G    0.07155         10        128: 100% 55/55 [00:06<00:00,  8.19it/s]\n",
            "               classes   top1_acc   top5_acc: 100% 2/2 [00:00<00:00, 51.96it/s]\n",
            "                   all      0.905          1\n",
            "\n",
            "      Epoch    GPU_mem       loss  Instances       Size\n",
            "      43/50     0.382G     0.0578         10        128: 100% 55/55 [00:07<00:00,  7.11it/s]\n",
            "               classes   top1_acc   top5_acc: 100% 2/2 [00:00<00:00, 60.19it/s]\n",
            "                   all      0.881          1\n",
            "\n",
            "      Epoch    GPU_mem       loss  Instances       Size\n",
            "      44/50      0.38G    0.04864         10        128: 100% 55/55 [00:07<00:00,  6.96it/s]\n",
            "               classes   top1_acc   top5_acc: 100% 2/2 [00:00<00:00, 52.82it/s]\n",
            "                   all      0.881          1\n",
            "\n",
            "      Epoch    GPU_mem       loss  Instances       Size\n",
            "      45/50      0.38G    0.04878         10        128: 100% 55/55 [00:06<00:00,  8.04it/s]\n",
            "               classes   top1_acc   top5_acc: 100% 2/2 [00:00<00:00, 55.76it/s]\n",
            "                   all      0.905          1\n",
            "\n",
            "      Epoch    GPU_mem       loss  Instances       Size\n",
            "      46/50      0.38G    0.04003         10        128: 100% 55/55 [00:07<00:00,  7.00it/s]\n",
            "               classes   top1_acc   top5_acc: 100% 2/2 [00:00<00:00, 30.50it/s]\n",
            "                   all      0.881          1\n",
            "\n",
            "      Epoch    GPU_mem       loss  Instances       Size\n",
            "      47/50     0.382G    0.05073         10        128: 100% 55/55 [00:07<00:00,  7.62it/s]\n",
            "               classes   top1_acc   top5_acc: 100% 2/2 [00:00<00:00, 19.06it/s]\n",
            "                   all      0.881          1\n",
            "\n",
            "      Epoch    GPU_mem       loss  Instances       Size\n",
            "      48/50     0.382G    0.05127         10        128: 100% 55/55 [00:06<00:00,  7.89it/s]\n",
            "               classes   top1_acc   top5_acc: 100% 2/2 [00:00<00:00, 44.22it/s]\n",
            "                   all      0.905          1\n",
            "\n",
            "      Epoch    GPU_mem       loss  Instances       Size\n",
            "      49/50      0.38G    0.05381         10        128: 100% 55/55 [00:07<00:00,  7.03it/s]\n",
            "               classes   top1_acc   top5_acc: 100% 2/2 [00:00<00:00, 38.08it/s]\n",
            "                   all      0.881          1\n",
            "\n",
            "      Epoch    GPU_mem       loss  Instances       Size\n",
            "      50/50      0.38G     0.0561         10        128: 100% 55/55 [00:06<00:00,  8.03it/s]\n",
            "               classes   top1_acc   top5_acc: 100% 2/2 [00:00<00:00, 24.98it/s]\n",
            "                   all      0.881          1\n",
            "\n",
            "50 epochs completed in 0.112 hours.\n",
            "Optimizer stripped from runs/classify/train/weights/last.pt, 3.0MB\n",
            "Optimizer stripped from runs/classify/train/weights/best.pt, 3.0MB\n",
            "\n",
            "Validating runs/classify/train/weights/best.pt...\n",
            "Ultralytics YOLOv8.1.18 🚀 Python-3.10.12 torch-2.1.0+cu121 CUDA:0 (Tesla T4, 15102MiB)\n",
            "YOLOv8n-cls summary (fused): 73 layers, 1441285 parameters, 0 gradients, 3.3 GFLOPs\n",
            "WARNING ⚠️ Dataset 'split=val' not found, using 'split=test' instead.\n",
            "\u001b[34m\u001b[1mtrain:\u001b[0m /content/intuition24-4/train... found 874 images in 5 classes ✅ \n",
            "\u001b[34m\u001b[1mval:\u001b[0m None...\n",
            "\u001b[34m\u001b[1mtest:\u001b[0m /content/intuition24-4/test... found 42 images in 5 classes ✅ \n",
            "               classes   top1_acc   top5_acc: 100% 2/2 [00:00<00:00, 15.41it/s]\n",
            "                   all      0.905          1\n",
            "Speed: 0.1ms preprocess, 0.5ms inference, 0.0ms loss, 0.0ms postprocess per image\n",
            "Results saved to \u001b[1mruns/classify/train\u001b[0m\n",
            "Results saved to \u001b[1mruns/classify/train\u001b[0m\n",
            "💡 Learn more at https://docs.ultralytics.com/modes/train\n"
          ]
        }
      ]
    },
    {
      "cell_type": "code",
      "source": [
        "!ls -la {HOME}/runs/classify/train/"
      ],
      "metadata": {
        "colab": {
          "base_uri": "https://localhost:8080/"
        },
        "id": "VBzlwWUgTXVX",
        "outputId": "e8b30ee9-4599-4714-fa1e-9b5b724f71ed"
      },
      "execution_count": null,
      "outputs": [
        {
          "output_type": "stream",
          "name": "stdout",
          "text": [
            "total 1004\n",
            "drwxr-xr-x 3 root root   4096 Feb 24 19:03 .\n",
            "drwxr-xr-x 3 root root   4096 Feb 24 18:56 ..\n",
            "-rw-r--r-- 1 root root   1535 Feb 24 18:56 args.yaml\n",
            "-rw-r--r-- 1 root root 126852 Feb 24 19:03 confusion_matrix_normalized.png\n",
            "-rw-r--r-- 1 root root 112185 Feb 24 19:03 confusion_matrix.png\n",
            "-rw-r--r-- 1 root root 157146 Feb 24 19:03 events.out.tfevents.1708800968.5123d1960731.1104.0\n",
            "-rw-r--r-- 1 root root   9792 Feb 24 19:02 results.csv\n",
            "-rw-r--r-- 1 root root 115526 Feb 24 19:03 results.png\n",
            "-rw-r--r-- 1 root root  50871 Feb 24 18:56 train_batch0.jpg\n",
            "-rw-r--r-- 1 root root  52670 Feb 24 18:56 train_batch1.jpg\n",
            "-rw-r--r-- 1 root root  52672 Feb 24 19:01 train_batch2200.jpg\n",
            "-rw-r--r-- 1 root root  50928 Feb 24 19:01 train_batch2201.jpg\n",
            "-rw-r--r-- 1 root root  49280 Feb 24 19:01 train_batch2202.jpg\n",
            "-rw-r--r-- 1 root root  48295 Feb 24 18:56 train_batch2.jpg\n",
            "-rw-r--r-- 1 root root  42279 Feb 24 19:02 val_batch0_labels.jpg\n",
            "-rw-r--r-- 1 root root  42279 Feb 24 19:02 val_batch0_pred.jpg\n",
            "-rw-r--r-- 1 root root  33371 Feb 24 19:02 val_batch1_labels.jpg\n",
            "-rw-r--r-- 1 root root  33395 Feb 24 19:02 val_batch1_pred.jpg\n",
            "drwxr-xr-x 2 root root   4096 Feb 24 18:56 weights\n"
          ]
        }
      ]
    },
    {
      "cell_type": "code",
      "source": [
        "%cd {HOME}\n",
        "\n",
        "!yolo task=classify mode=val model={HOME}/runs/classify/train/weights/best.pt data={dataset.location}"
      ],
      "metadata": {
        "colab": {
          "base_uri": "https://localhost:8080/"
        },
        "id": "eafx-sssV1Ut",
        "outputId": "14f492df-7781-4907-cd55-8d30d448f9b6"
      },
      "execution_count": null,
      "outputs": [
        {
          "output_type": "stream",
          "name": "stdout",
          "text": [
            "/content\n",
            "Ultralytics YOLOv8.1.18 🚀 Python-3.10.12 torch-2.1.0+cu121 CUDA:0 (Tesla T4, 15102MiB)\n",
            "YOLOv8n-cls summary (fused): 73 layers, 1441285 parameters, 0 gradients, 3.3 GFLOPs\n",
            "WARNING ⚠️ Dataset 'split=val' not found, using 'split=test' instead.\n",
            "\u001b[34m\u001b[1mtrain:\u001b[0m /content/intuition24-4/train... found 874 images in 5 classes ✅ \n",
            "\u001b[34m\u001b[1mval:\u001b[0m None...\n",
            "\u001b[34m\u001b[1mtest:\u001b[0m /content/intuition24-4/test... found 42 images in 5 classes ✅ \n",
            "Traceback (most recent call last):\n",
            "  File \"/usr/local/bin/yolo\", line 8, in <module>\n",
            "    sys.exit(entrypoint())\n",
            "  File \"/usr/local/lib/python3.10/dist-packages/ultralytics/cfg/__init__.py\", line 568, in entrypoint\n",
            "    getattr(model, mode)(**overrides)  # default args from model\n",
            "  File \"/usr/local/lib/python3.10/dist-packages/ultralytics/engine/model.py\", line 503, in val\n",
            "    validator(model=self.model)\n",
            "  File \"/usr/local/lib/python3.10/dist-packages/torch/utils/_contextlib.py\", line 115, in decorate_context\n",
            "    return func(*args, **kwargs)\n",
            "  File \"/usr/local/lib/python3.10/dist-packages/ultralytics/engine/validator.py\", line 152, in __call__\n",
            "    self.dataloader = self.dataloader or self.get_dataloader(self.data.get(self.args.split), self.args.batch)\n",
            "  File \"/usr/local/lib/python3.10/dist-packages/ultralytics/models/yolo/classify/val.py\", line 85, in get_dataloader\n",
            "    dataset = self.build_dataset(dataset_path)\n",
            "  File \"/usr/local/lib/python3.10/dist-packages/ultralytics/models/yolo/classify/val.py\", line 81, in build_dataset\n",
            "    return ClassificationDataset(root=img_path, args=self.args, augment=False, prefix=self.args.split)\n",
            "  File \"/usr/local/lib/python3.10/dist-packages/ultralytics/data/dataset.py\", line 259, in __init__\n",
            "    super().__init__(root=root)\n",
            "  File \"/usr/local/lib/python3.10/dist-packages/torchvision/datasets/folder.py\", line 309, in __init__\n",
            "    super().__init__(\n",
            "  File \"/usr/local/lib/python3.10/dist-packages/torchvision/datasets/folder.py\", line 145, in __init__\n",
            "    samples = self.make_dataset(self.root, class_to_idx, extensions, is_valid_file)\n",
            "  File \"/usr/local/lib/python3.10/dist-packages/torchvision/datasets/folder.py\", line 189, in make_dataset\n",
            "    return make_dataset(directory, class_to_idx, extensions=extensions, is_valid_file=is_valid_file)\n",
            "  File \"/usr/local/lib/python3.10/dist-packages/torchvision/datasets/folder.py\", line 61, in make_dataset\n",
            "    directory = os.path.expanduser(directory)\n",
            "  File \"/usr/lib/python3.10/posixpath.py\", line 232, in expanduser\n",
            "    path = os.fspath(path)\n",
            "TypeError: expected str, bytes or os.PathLike object, not NoneType\n"
          ]
        }
      ]
    },
    {
      "cell_type": "code",
      "source": [
        "from roboflow import Roboflow\n",
        "rf = Roboflow(api_key=\"TO4rOIeutEq7mDUvWOis\")\n",
        "project = rf.workspace().project(\"intuition24\")\n",
        "model = project.version(4).model\n",
        "\n",
        "# infer on a local image\n",
        "print(model.predict(\"mouse.jpeg\").json())\n",
        "\n",
        "# visualize your prediction\n",
        "# model.predict(\"your_image.jpg\").save(\"prediction.jpg\")\n",
        "\n",
        "# infer on an image hosted elsewhere\n",
        "# print(model.predict(\"URL_OF_YOUR_IMAGE\", hosted=True).json())\n"
      ],
      "metadata": {
        "colab": {
          "base_uri": "https://localhost:8080/"
        },
        "id": "OWCm-CdhYRx2",
        "outputId": "0422ce85-cd8f-43c9-a11d-c0a9282c2456"
      },
      "execution_count": null,
      "outputs": [
        {
          "output_type": "stream",
          "name": "stdout",
          "text": [
            "loading Roboflow workspace...\n",
            "loading Roboflow project...\n",
            "{'predictions': [{'time': 0.12050385700058541, 'image': {'width': 240, 'height': 210}, 'predictions': [{'class': 'Mouse', 'class_id': 3, 'confidence': 0.7712}, {'class': 'Unlabeled', 'class_id': 1, 'confidence': 0.0959}, {'class': 'chargers', 'class_id': 0, 'confidence': 0.0562}, {'class': 'Phone', 'class_id': 4, 'confidence': 0.0433}, {'class': 'Laptop', 'class_id': 2, 'confidence': 0.0334}], 'top': 'Mouse', 'confidence': 0.7712, 'image_path': 'mouse.jpeg', 'prediction_type': 'ClassificationModel'}], 'image': (240, 210)}\n"
          ]
        }
      ]
    },
    {
      "cell_type": "code",
      "source": [
        "/content/intuition24-4/valid"
      ],
      "metadata": {
        "id": "pgz7DjZDhO0z"
      },
      "execution_count": null,
      "outputs": []
    },
    {
      "cell_type": "code",
      "source": [
        "%cd {HOME}\n",
        "# !yolo task=classify mode=predict model={HOME}/runs/classify/train/weights/best.pt conf=0.25 source={dataset.location}/valid/"
      ],
      "metadata": {
        "id": "mOaFGB1YZKPG",
        "outputId": "c098890a-0b4c-418a-ea68-14e06994b1b0",
        "colab": {
          "base_uri": "https://localhost:8080/"
        }
      },
      "execution_count": null,
      "outputs": [
        {
          "output_type": "stream",
          "name": "stdout",
          "text": [
            "/content\n",
            "Ultralytics YOLOv8.1.18 🚀 Python-3.10.12 torch-2.1.0+cu121 CUDA:0 (Tesla T4, 15102MiB)\n",
            "YOLOv8n-cls summary (fused): 73 layers, 1441285 parameters, 0 gradients, 3.3 GFLOPs\n",
            "\n",
            "Traceback (most recent call last):\n",
            "  File \"/usr/local/bin/yolo\", line 8, in <module>\n",
            "    sys.exit(entrypoint())\n",
            "  File \"/usr/local/lib/python3.10/dist-packages/ultralytics/cfg/__init__.py\", line 568, in entrypoint\n",
            "    getattr(model, mode)(**overrides)  # default args from model\n",
            "  File \"/usr/local/lib/python3.10/dist-packages/ultralytics/engine/model.py\", line 429, in predict\n",
            "    return self.predictor.predict_cli(source=source) if is_cli else self.predictor(source=source, stream=stream)\n",
            "  File \"/usr/local/lib/python3.10/dist-packages/ultralytics/engine/predictor.py\", line 213, in predict_cli\n",
            "    for _ in gen:  # noqa, running CLI inference without accumulating any outputs (do not modify)\n",
            "  File \"/usr/local/lib/python3.10/dist-packages/torch/utils/_contextlib.py\", line 35, in generator_context\n",
            "    response = gen.send(None)\n",
            "  File \"/usr/local/lib/python3.10/dist-packages/ultralytics/engine/predictor.py\", line 254, in stream_inference\n",
            "    self.setup_source(source if source is not None else self.args.source)\n",
            "  File \"/usr/local/lib/python3.10/dist-packages/ultralytics/engine/predictor.py\", line 228, in setup_source\n",
            "    self.dataset = load_inference_source(\n",
            "  File \"/usr/local/lib/python3.10/dist-packages/ultralytics/data/build.py\", line 180, in load_inference_source\n",
            "    dataset = LoadImages(source, vid_stride=vid_stride)\n",
            "  File \"/usr/local/lib/python3.10/dist-packages/ultralytics/data/loaders.py\", line 307, in __init__\n",
            "    raise FileNotFoundError(\n",
            "FileNotFoundError: No images or videos found in /content/intuition24-4/valid/. Supported formats are:\n",
            "images: ('bmp', 'dng', 'jpeg', 'jpg', 'mpo', 'png', 'tif', 'tiff', 'webp', 'pfm')\n",
            "videos: ('asf', 'avi', 'gif', 'm4v', 'mkv', 'mov', 'mp4', 'mpeg', 'mpg', 'ts', 'wmv', 'webm')\n"
          ]
        }
      ]
    },
    {
      "cell_type": "code",
      "source": [
        "import os\n",
        "from roboflow import Roboflow\n",
        "\n",
        "# Initialize your Roboflow model\n",
        "rf = Roboflow(api_key=\"TO4rOIeutEq7mDUvWOis\")\n",
        "project = rf.workspace().project(\"intuition24\")\n",
        "model = project.version(4).model\n",
        "\n",
        "# Define the path to your validation folder\n",
        "validation_path = '/content/intuition24-4/valid'\n",
        "\n",
        "# Initialize dictionaries to store counts\n",
        "class_counts = {}\n",
        "class_correct_counts = {}\n",
        "\n",
        "# Navigate through each subfolder and file\n",
        "for subdir, dirs, files in os.walk(validation_path):\n",
        "    # Extract class name from the subdirectory\n",
        "    class_name = os.path.basename(subdir)\n",
        "    class_counts[class_name] = 0\n",
        "    class_correct_counts[class_name] = 0\n",
        "\n",
        "    for file_name in files:\n",
        "        # Check if the file is a JPEG\n",
        "        if file_name.endswith(\".jpeg\") or file_name.endswith(\".jpg\"):\n",
        "            file_path = os.path.join(subdir, file_name)\n",
        "\n",
        "            # Predict\n",
        "            prediction = model.predict(file_path).json()\n",
        "            predicted_class = prediction['predictions'][0]['top']\n",
        "\n",
        "            # Check if the predicted class matches the actual class\n",
        "            if predicted_class == class_name:\n",
        "                class_correct_counts[class_name] += 1\n",
        "            class_counts[class_name] += 1\n",
        "\n",
        "# Print success rate for each class\n",
        "print(\"Success rate of detection for each class:\")\n",
        "for class_name, count in class_counts.items():\n",
        "    success_rate = (class_correct_counts[class_name] / count) * 100 if count > 0 else 0\n",
        "    print(f\"{class_name}: {success_rate:.2f}%\")\n"
      ],
      "metadata": {
        "colab": {
          "base_uri": "https://localhost:8080/"
        },
        "id": "4xcwn1EaCroS",
        "outputId": "61cf3593-5231-4070-95c5-4bc87525a7b9"
      },
      "execution_count": null,
      "outputs": [
        {
          "output_type": "stream",
          "name": "stdout",
          "text": [
            "loading Roboflow workspace...\n",
            "loading Roboflow project...\n",
            "Success rate of detection for each class:\n",
            "valid: 0.00%\n",
            "Mouse: 93.94%\n",
            "Unlabeled: 100.00%\n",
            "Laptop: 100.00%\n",
            "Phone: 57.14%\n",
            "chargers: 95.45%\n"
          ]
        }
      ]
    },
    {
      "cell_type": "code",
      "source": [
        "import os\n",
        "import json\n",
        "from roboflow import Roboflow\n",
        "\n",
        "# Initialize your Roboflow model\n",
        "rf = Roboflow(api_key=\"TO4rOIeutEq7mDUvWOis\")\n",
        "project = rf.workspace().project(\"intuition24\")\n",
        "model = project.version(4).model\n",
        "\n",
        "# Define the path to your validation folder\n",
        "validation_path = '/content/intuition24-4/valid'\n",
        "\n",
        "# Set the output file path\n",
        "output_file = '/content/intuition24-4/predictions.txt'\n",
        "\n",
        "# Ensure the directory exists\n",
        "os.makedirs(os.path.dirname(output_file), exist_ok=True)\n",
        "\n",
        "# Open the output file\n",
        "with open(output_file, 'w') as file:\n",
        "    # Navigate through each subfolder and file\n",
        "    for subdir, dirs, files in os.walk(validation_path):\n",
        "        for file_name in files:\n",
        "            # Check if the file is a JPEG\n",
        "            if file_name.endswith(\".jpeg\") or file_name.endswith(\".jpg\"):\n",
        "                file_path = os.path.join(subdir, file_name)\n",
        "                parent_folder = os.path.basename(subdir)\n",
        "\n",
        "                # Predict\n",
        "                prediction = model.predict(file_path).json()\n",
        "\n",
        "                # Get the predicted class with the highest confidence\n",
        "                predictions = prediction.get(\"predictions\", [])  # Get predictions list or empty list if not present\n",
        "                if predictions:\n",
        "                    max_confidence_prediction = max(predictions, key=lambda x: x.get('confidence', 0))\n",
        "                    predicted_class = max_confidence_prediction.get('class')\n",
        "                else:\n",
        "                    predicted_class = None\n",
        "\n",
        "                # Check if the predicted class matches the parent folder name\n",
        "                is_accurate_prediction = 1 if predicted_class == parent_folder else 0\n",
        "\n",
        "                # Add binary value to the prediction\n",
        "                prediction['is_accurate'] = is_accurate_prediction\n",
        "\n",
        "                # Write the result to the file\n",
        "                file.write(json.dumps(prediction) + '\\n')\n",
        "\n",
        "print(f\"Predictions written to {output_file}\")\n"
      ],
      "metadata": {
        "colab": {
          "base_uri": "https://localhost:8080/"
        },
        "id": "HcSvj6X4jR55",
        "outputId": "fdbfcdae-1214-47c3-cb0c-9e6882fca29b"
      },
      "execution_count": null,
      "outputs": [
        {
          "output_type": "stream",
          "name": "stdout",
          "text": [
            "loading Roboflow workspace...\n",
            "loading Roboflow project...\n",
            "Predictions written to /content/intuition24-4/predictions.txt\n"
          ]
        }
      ]
    }
  ]
}